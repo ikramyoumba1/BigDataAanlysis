{
  "cells": [
    {
      "cell_type": "markdown",
      "metadata": {
        "id": "view-in-github",
        "colab_type": "text"
      },
      "source": [
        "<a href=\"https://colab.research.google.com/github/ikramyoumba1/BigDataAanlysis/blob/main/Tp2.ipynb\" target=\"_parent\"><img src=\"https://colab.research.google.com/assets/colab-badge.svg\" alt=\"Open In Colab\"/></a>"
      ]
    },
    {
      "cell_type": "code",
      "execution_count": 1,
      "metadata": {
        "id": "DULPu_0iwrS3"
      },
      "outputs": [],
      "source": [
        "import pandas as pd\n",
        "import dask.dataframe as dd\n",
        "import time\n",
        "import os\n"
      ]
    },
    {
      "cell_type": "code",
      "execution_count": 2,
      "metadata": {
        "id": "_PmoIgv7ofF_"
      },
      "outputs": [],
      "source": [
        "path = \"/content/drive/MyDrive/data/2019-Oct.csv\""
      ]
    },
    {
      "cell_type": "code",
      "source": [
        "import pandas as pd\n",
        "df = pd.read_csv(path)\n",
        "print(df.head(5))"
      ],
      "metadata": {
        "colab": {
          "base_uri": "https://localhost:8080/"
        },
        "id": "CSaoysGRwhNi",
        "outputId": "b9f85bd8-92e5-4879-d724-183b76770066"
      },
      "execution_count": 5,
      "outputs": [
        {
          "output_type": "stream",
          "name": "stdout",
          "text": [
            "                event_time event_type  product_id          category_id  \\\n",
            "0  2019-10-01 00:00:00 UTC       view    44600062  2103807459595387724   \n",
            "1  2019-10-01 00:00:00 UTC       view     3900821  2053013552326770905   \n",
            "2  2019-10-01 00:00:01 UTC       view    17200506  2053013559792632471   \n",
            "3  2019-10-01 00:00:01 UTC       view     1307067  2053013558920217191   \n",
            "4  2019-10-01 00:00:04 UTC       view     1004237  2053013555631882655   \n",
            "\n",
            "                         category_code     brand    price    user_id  \\\n",
            "0                                  NaN  shiseido    35.79  541312140   \n",
            "1  appliances.environment.water_heater      aqua    33.20  554748717   \n",
            "2           furniture.living_room.sofa       NaN   543.10  519107250   \n",
            "3                   computers.notebook    lenovo   251.74  550050854   \n",
            "4               electronics.smartphone     apple  1081.98  535871217   \n",
            "\n",
            "                           user_session  \n",
            "0  72d76fde-8bb3-4e00-8c23-a032dfed738c  \n",
            "1  9333dfbd-b87a-4708-9857-6336556b0fcc  \n",
            "2  566511c2-e2e3-422b-b695-cf8e6e792ca8  \n",
            "3  7c90fc70-0e80-4590-96f3-13c02c18c713  \n",
            "4  c6bd7419-2748-4c56-95b4-8cec9ff8b80d  \n"
          ]
        }
      ]
    },
    {
      "cell_type": "markdown",
      "metadata": {
        "id": "lccBF7l5x62J"
      },
      "source": [
        "**Method 1: pandas.read_csv(chunksize)**"
      ]
    },
    {
      "cell_type": "code",
      "execution_count": null,
      "metadata": {
        "colab": {
          "base_uri": "https://localhost:8080/"
        },
        "id": "-skcfD1Jomhc",
        "outputId": "bf158c5e-8e54-472e-8569-67509ed30007"
      },
      "outputs": [
        {
          "output_type": "stream",
          "name": "stdout",
          "text": [
            "✅ [1] Pandas + chunksize\n",
            "Average price: 290.33\n",
            "Time taken: 128.71 sec\n",
            "\n",
            "Memory used  0.03 GB\n",
            "\n"
          ]
        }
      ],
      "source": [
        "start = time.time()\n",
        "\n",
        "chunk_size = 500000\n",
        "chunks = []\n",
        "\n",
        "for chunk in pd.read_csv(path, chunksize=chunk_size):\n",
        "    chunks.append(chunk[\"price\"].mean())\n",
        "\n",
        "mean_price_chunks = sum(chunks) / len(chunks)\n",
        "\n",
        "end = time.time()\n",
        "time_chunks = end - start\n",
        "\n",
        "df_sample = pd.read_csv(path, nrows=100000)\n",
        "storage_pandas = df_sample.memory_usage(deep=True).sum() / (1024**3)\n",
        "\n",
        "print(\"✅ [1] Pandas + chunksize\")\n",
        "print(f\"Average price: {mean_price_chunks:.2f}\")\n",
        "print(f\"Time taken: {time_chunks:.2f} sec\\n\")\n",
        "print(f\"Memory used  {storage_pandas:.2f} GB\\n\")\n"
      ]
    },
    {
      "cell_type": "markdown",
      "metadata": {
        "id": "cLml3sgFQCvw"
      },
      "source": [
        "**Method 2: Dask**"
      ]
    },
    {
      "cell_type": "code",
      "execution_count": null,
      "metadata": {
        "id": "7l40TDsgpACo",
        "colab": {
          "base_uri": "https://localhost:8080/"
        },
        "outputId": "9ad4f815-18ae-4f92-a9d1-541a3f295820"
      },
      "outputs": [
        {
          "output_type": "stream",
          "name": "stdout",
          "text": [
            "✅ [2] Dask\n",
            "Average price: 290.32\n",
            "Time taken: 110.42 sec\n",
            "\n",
            "Memory used : 6.16 GB\n",
            "\n"
          ]
        }
      ],
      "source": [
        "start = time.time()\n",
        "\n",
        "df_dask = dd.read_csv(path)\n",
        "mean_price_dask = df_dask[\"price\"].mean().compute()\n",
        "\n",
        "end = time.time()\n",
        "time_dask = end - start\n",
        "\n",
        "storage_dask = df_dask.memory_usage(deep=True).sum().compute() / (1024**3)\n",
        "\n",
        "\n",
        "print(\"✅ [2] Dask\")\n",
        "print(f\"Average price: {mean_price_dask:.2f}\")\n",
        "print(f\"Time taken: {time_dask:.2f} sec\\n\")\n",
        "print(f\"Memory used : {storage_dask:.2f} GB\\n\")\n"
      ]
    },
    {
      "cell_type": "markdown",
      "metadata": {
        "id": "J9UlL_0TQUBc"
      },
      "source": [
        "**Compression**"
      ]
    },
    {
      "cell_type": "code",
      "execution_count": null,
      "metadata": {
        "colab": {
          "base_uri": "https://localhost:8080/"
        },
        "id": "VIdhWAnTpR_6",
        "outputId": "31b187c2-9e9d-4042-972a-36e46ea063b8"
      },
      "outputs": [
        {
          "name": "stdout",
          "output_type": "stream",
          "text": [
            "✅ [3] Compression (gzip)\n",
            "Original size: 5.28 GB\n",
            "Compressed size: 1.58 GB\n",
            "Compression time: 832.68 sec\n",
            "Compression ratio: 70.1% smaller\n"
          ]
        }
      ],
      "source": [
        "\n",
        "compressed_path = \"/content/drive/MyDrive/data/2019-Nov.csv.gz\"\n",
        "\n",
        "#  Time Calculation\n",
        "start = time.time()\n",
        "\n",
        "# Reading the original file\n",
        "df = pd.read_csv(path)\n",
        "\n",
        "# Save the file compressed in gzip format\n",
        "df.to_csv(compressed_path, index=False, compression='gzip')\n",
        "\n",
        "end = time.time()\n",
        "time_compress = end - start\n",
        "\n",
        "#  Calculate the size in GB\n",
        "original_size_gb = os.path.getsize(path) / (1024**3)\n",
        "compressed_size_gb = os.path.getsize(compressed_path) / (1024**3)\n",
        "\n",
        "\n",
        "print(\"✅ [3] Compression (gzip)\")\n",
        "print(f\"Original size: {original_size_gb:.2f} GB\")\n",
        "print(f\"Compressed size: {compressed_size_gb:.2f} GB\")\n",
        "print(f\"Compression time: {time_compress:.2f} sec\")\n",
        "\n",
        "# Pressure ratio\n",
        "compression_ratio = (1 - compressed_size_gb / original_size_gb) * 100\n",
        "print(f\"Compression ratio: {compression_ratio:.1f}% smaller\")\n"
      ]
    },
    {
      "cell_type": "markdown",
      "metadata": {
        "id": "esl5yTPVperu"
      },
      "source": [
        "**Comparison of results**"
      ]
    },
    {
      "cell_type": "code",
      "execution_count": null,
      "metadata": {
        "colab": {
          "base_uri": "https://localhost:8080/"
        },
        "id": "Jz2qTsj3pkPW",
        "outputId": "545271b3-fa37-4f40-c56b-4ef1bdf60e0b"
      },
      "outputs": [
        {
          "name": "stdout",
          "output_type": "stream",
          "text": [
            "=== 🧩 Comparison Summary ===\n",
            "Pandas + chunksize: 103.08s | 0.03 MB RAM\n",
            "Dask: 99.72s | 6.16 MB RAM\n",
            "Compression: 832.68s | 1.58 GB on disk\n"
          ]
        }
      ],
      "source": [
        "print(\"=== 🧩 Comparison Summary ===\")\n",
        "print(f\"Pandas + chunksize: {time_chunks:.2f}s | {storage_pandas:.2f} GB RAM\")\n",
        "print(f\"Dask: {time_dask:.2f}s | {storage_dask:.2f} GB RAM\")\n",
        "print(f\"Compression: {time_compress:.2f}s | {compressed_size_gb:.2f} GB on disk\")"
      ]
    },
    {
      "cell_type": "markdown",
      "metadata": {
        "id": "iTWVYui_Mwfy"
      },
      "source": [
        "| models   | Time | Memory Usage  |\n",
        "| ---------------- | ---------------- | ---------- |\n",
        "| **Chunk**    | Average     | Low |\n",
        "| **Dask**     | Fast     | Average   |\n",
        "| **Compression**  | Slower      | Low    |\n"
      ]
    }
  ],
  "metadata": {
    "colab": {
      "provenance": [],
      "mount_file_id": "1Onj53t4rhG5hUqyrsl_sYAg8W1_STYGH",
      "authorship_tag": "ABX9TyOxspzUVPjumuEe+o4sUyXJ",
      "include_colab_link": true
    },
    "kernelspec": {
      "display_name": "Python 3",
      "name": "python3"
    },
    "language_info": {
      "name": "python"
    }
  },
  "nbformat": 4,
  "nbformat_minor": 0
}