{
  "nbformat": 4,
  "nbformat_minor": 0,
  "metadata": {
    "colab": {
      "provenance": [],
      "authorship_tag": "ABX9TyMwdCIFjqjHK6qfgjFDfR95",
      "include_colab_link": true
    },
    "kernelspec": {
      "name": "python3",
      "display_name": "Python 3"
    },
    "language_info": {
      "name": "python"
    }
  },
  "cells": [
    {
      "cell_type": "markdown",
      "metadata": {
        "id": "view-in-github",
        "colab_type": "text"
      },
      "source": [
        "<a href=\"https://colab.research.google.com/github/ikramyoumba1/BigDataAanlysis/blob/main/tp02_token_pynb.ipynb\" target=\"_parent\"><img src=\"https://colab.research.google.com/assets/colab-badge.svg\" alt=\"Open In Colab\"/></a>"
      ]
    },
    {
      "cell_type": "code",
      "source": [
        "!pip install kaggle"
      ],
      "metadata": {
        "colab": {
          "base_uri": "https://localhost:8080/"
        },
        "id": "rE1h6UiJEcEd",
        "outputId": "a57bddb6-c43b-47db-dd2f-e7671bad60a5"
      },
      "execution_count": null,
      "outputs": [
        {
          "output_type": "stream",
          "name": "stdout",
          "text": [
            "Requirement already satisfied: kaggle in /usr/local/lib/python3.12/dist-packages (1.7.4.5)\n",
            "Requirement already satisfied: bleach in /usr/local/lib/python3.12/dist-packages (from kaggle) (6.2.0)\n",
            "Requirement already satisfied: certifi>=14.05.14 in /usr/local/lib/python3.12/dist-packages (from kaggle) (2025.10.5)\n",
            "Requirement already satisfied: charset-normalizer in /usr/local/lib/python3.12/dist-packages (from kaggle) (3.4.3)\n",
            "Requirement already satisfied: idna in /usr/local/lib/python3.12/dist-packages (from kaggle) (3.10)\n",
            "Requirement already satisfied: protobuf in /usr/local/lib/python3.12/dist-packages (from kaggle) (5.29.5)\n",
            "Requirement already satisfied: python-dateutil>=2.5.3 in /usr/local/lib/python3.12/dist-packages (from kaggle) (2.9.0.post0)\n",
            "Requirement already satisfied: python-slugify in /usr/local/lib/python3.12/dist-packages (from kaggle) (8.0.4)\n",
            "Requirement already satisfied: requests in /usr/local/lib/python3.12/dist-packages (from kaggle) (2.32.4)\n",
            "Requirement already satisfied: setuptools>=21.0.0 in /usr/local/lib/python3.12/dist-packages (from kaggle) (75.2.0)\n",
            "Requirement already satisfied: six>=1.10 in /usr/local/lib/python3.12/dist-packages (from kaggle) (1.17.0)\n",
            "Requirement already satisfied: text-unidecode in /usr/local/lib/python3.12/dist-packages (from kaggle) (1.3)\n",
            "Requirement already satisfied: tqdm in /usr/local/lib/python3.12/dist-packages (from kaggle) (4.67.1)\n",
            "Requirement already satisfied: urllib3>=1.15.1 in /usr/local/lib/python3.12/dist-packages (from kaggle) (2.5.0)\n",
            "Requirement already satisfied: webencodings in /usr/local/lib/python3.12/dist-packages (from kaggle) (0.5.1)\n"
          ]
        }
      ]
    },
    {
      "cell_type": "code",
      "source": [
        "\n",
        "import json\n",
        "from google.colab import files"
      ],
      "metadata": {
        "id": "6aictX8AFmAa"
      },
      "execution_count": 3,
      "outputs": []
    },
    {
      "cell_type": "code",
      "source": [
        "!mkdir -p /root/.kaggle\n",
        "!cp /content/kaggle.json /root/.kaggle/\n",
        "!chmod 600 /root/.kaggle/kaggle.json"
      ],
      "metadata": {
        "colab": {
          "base_uri": "https://localhost:8080/"
        },
        "id": "cOiGS-CDGhb0",
        "outputId": "179b1673-46fb-41b7-f9c5-80fa1c82ec57"
      },
      "execution_count": 4,
      "outputs": [
        {
          "output_type": "stream",
          "name": "stdout",
          "text": [
            "cp: cannot stat '/content/kaggle.json': No such file or directory\n",
            "chmod: cannot access '/root/.kaggle/kaggle.json': No such file or directory\n"
          ]
        }
      ]
    },
    {
      "cell_type": "code",
      "source": [
        "uploaded = files.upload()"
      ],
      "metadata": {
        "colab": {
          "base_uri": "https://localhost:8080/",
          "height": 73
        },
        "id": "TPk1nl7TGlt_",
        "outputId": "151e6503-7211-41e1-dc59-2449dc17a349"
      },
      "execution_count": 5,
      "outputs": [
        {
          "output_type": "display_data",
          "data": {
            "text/plain": [
              "<IPython.core.display.HTML object>"
            ],
            "text/html": [
              "\n",
              "     <input type=\"file\" id=\"files-2e9febd3-01e5-4cfb-9630-802341cc3e0e\" name=\"files[]\" multiple disabled\n",
              "        style=\"border:none\" />\n",
              "     <output id=\"result-2e9febd3-01e5-4cfb-9630-802341cc3e0e\">\n",
              "      Upload widget is only available when the cell has been executed in the\n",
              "      current browser session. Please rerun this cell to enable.\n",
              "      </output>\n",
              "      <script>// Copyright 2017 Google LLC\n",
              "//\n",
              "// Licensed under the Apache License, Version 2.0 (the \"License\");\n",
              "// you may not use this file except in compliance with the License.\n",
              "// You may obtain a copy of the License at\n",
              "//\n",
              "//      http://www.apache.org/licenses/LICENSE-2.0\n",
              "//\n",
              "// Unless required by applicable law or agreed to in writing, software\n",
              "// distributed under the License is distributed on an \"AS IS\" BASIS,\n",
              "// WITHOUT WARRANTIES OR CONDITIONS OF ANY KIND, either express or implied.\n",
              "// See the License for the specific language governing permissions and\n",
              "// limitations under the License.\n",
              "\n",
              "/**\n",
              " * @fileoverview Helpers for google.colab Python module.\n",
              " */\n",
              "(function(scope) {\n",
              "function span(text, styleAttributes = {}) {\n",
              "  const element = document.createElement('span');\n",
              "  element.textContent = text;\n",
              "  for (const key of Object.keys(styleAttributes)) {\n",
              "    element.style[key] = styleAttributes[key];\n",
              "  }\n",
              "  return element;\n",
              "}\n",
              "\n",
              "// Max number of bytes which will be uploaded at a time.\n",
              "const MAX_PAYLOAD_SIZE = 100 * 1024;\n",
              "\n",
              "function _uploadFiles(inputId, outputId) {\n",
              "  const steps = uploadFilesStep(inputId, outputId);\n",
              "  const outputElement = document.getElementById(outputId);\n",
              "  // Cache steps on the outputElement to make it available for the next call\n",
              "  // to uploadFilesContinue from Python.\n",
              "  outputElement.steps = steps;\n",
              "\n",
              "  return _uploadFilesContinue(outputId);\n",
              "}\n",
              "\n",
              "// This is roughly an async generator (not supported in the browser yet),\n",
              "// where there are multiple asynchronous steps and the Python side is going\n",
              "// to poll for completion of each step.\n",
              "// This uses a Promise to block the python side on completion of each step,\n",
              "// then passes the result of the previous step as the input to the next step.\n",
              "function _uploadFilesContinue(outputId) {\n",
              "  const outputElement = document.getElementById(outputId);\n",
              "  const steps = outputElement.steps;\n",
              "\n",
              "  const next = steps.next(outputElement.lastPromiseValue);\n",
              "  return Promise.resolve(next.value.promise).then((value) => {\n",
              "    // Cache the last promise value to make it available to the next\n",
              "    // step of the generator.\n",
              "    outputElement.lastPromiseValue = value;\n",
              "    return next.value.response;\n",
              "  });\n",
              "}\n",
              "\n",
              "/**\n",
              " * Generator function which is called between each async step of the upload\n",
              " * process.\n",
              " * @param {string} inputId Element ID of the input file picker element.\n",
              " * @param {string} outputId Element ID of the output display.\n",
              " * @return {!Iterable<!Object>} Iterable of next steps.\n",
              " */\n",
              "function* uploadFilesStep(inputId, outputId) {\n",
              "  const inputElement = document.getElementById(inputId);\n",
              "  inputElement.disabled = false;\n",
              "\n",
              "  const outputElement = document.getElementById(outputId);\n",
              "  outputElement.innerHTML = '';\n",
              "\n",
              "  const pickedPromise = new Promise((resolve) => {\n",
              "    inputElement.addEventListener('change', (e) => {\n",
              "      resolve(e.target.files);\n",
              "    });\n",
              "  });\n",
              "\n",
              "  const cancel = document.createElement('button');\n",
              "  inputElement.parentElement.appendChild(cancel);\n",
              "  cancel.textContent = 'Cancel upload';\n",
              "  const cancelPromise = new Promise((resolve) => {\n",
              "    cancel.onclick = () => {\n",
              "      resolve(null);\n",
              "    };\n",
              "  });\n",
              "\n",
              "  // Wait for the user to pick the files.\n",
              "  const files = yield {\n",
              "    promise: Promise.race([pickedPromise, cancelPromise]),\n",
              "    response: {\n",
              "      action: 'starting',\n",
              "    }\n",
              "  };\n",
              "\n",
              "  cancel.remove();\n",
              "\n",
              "  // Disable the input element since further picks are not allowed.\n",
              "  inputElement.disabled = true;\n",
              "\n",
              "  if (!files) {\n",
              "    return {\n",
              "      response: {\n",
              "        action: 'complete',\n",
              "      }\n",
              "    };\n",
              "  }\n",
              "\n",
              "  for (const file of files) {\n",
              "    const li = document.createElement('li');\n",
              "    li.append(span(file.name, {fontWeight: 'bold'}));\n",
              "    li.append(span(\n",
              "        `(${file.type || 'n/a'}) - ${file.size} bytes, ` +\n",
              "        `last modified: ${\n",
              "            file.lastModifiedDate ? file.lastModifiedDate.toLocaleDateString() :\n",
              "                                    'n/a'} - `));\n",
              "    const percent = span('0% done');\n",
              "    li.appendChild(percent);\n",
              "\n",
              "    outputElement.appendChild(li);\n",
              "\n",
              "    const fileDataPromise = new Promise((resolve) => {\n",
              "      const reader = new FileReader();\n",
              "      reader.onload = (e) => {\n",
              "        resolve(e.target.result);\n",
              "      };\n",
              "      reader.readAsArrayBuffer(file);\n",
              "    });\n",
              "    // Wait for the data to be ready.\n",
              "    let fileData = yield {\n",
              "      promise: fileDataPromise,\n",
              "      response: {\n",
              "        action: 'continue',\n",
              "      }\n",
              "    };\n",
              "\n",
              "    // Use a chunked sending to avoid message size limits. See b/62115660.\n",
              "    let position = 0;\n",
              "    do {\n",
              "      const length = Math.min(fileData.byteLength - position, MAX_PAYLOAD_SIZE);\n",
              "      const chunk = new Uint8Array(fileData, position, length);\n",
              "      position += length;\n",
              "\n",
              "      const base64 = btoa(String.fromCharCode.apply(null, chunk));\n",
              "      yield {\n",
              "        response: {\n",
              "          action: 'append',\n",
              "          file: file.name,\n",
              "          data: base64,\n",
              "        },\n",
              "      };\n",
              "\n",
              "      let percentDone = fileData.byteLength === 0 ?\n",
              "          100 :\n",
              "          Math.round((position / fileData.byteLength) * 100);\n",
              "      percent.textContent = `${percentDone}% done`;\n",
              "\n",
              "    } while (position < fileData.byteLength);\n",
              "  }\n",
              "\n",
              "  // All done.\n",
              "  yield {\n",
              "    response: {\n",
              "      action: 'complete',\n",
              "    }\n",
              "  };\n",
              "}\n",
              "\n",
              "scope.google = scope.google || {};\n",
              "scope.google.colab = scope.google.colab || {};\n",
              "scope.google.colab._files = {\n",
              "  _uploadFiles,\n",
              "  _uploadFilesContinue,\n",
              "};\n",
              "})(self);\n",
              "</script> "
            ]
          },
          "metadata": {}
        },
        {
          "output_type": "stream",
          "name": "stdout",
          "text": [
            "Saving kaggle.json to kaggle.json\n"
          ]
        }
      ]
    },
    {
      "cell_type": "code",
      "source": [
        "print(\"Uploaded files:\")\n",
        "for filename in uploaded.keys():\n",
        "    print(f\"✅ {filename}\")"
      ],
      "metadata": {
        "colab": {
          "base_uri": "https://localhost:8080/"
        },
        "id": "5Yw0hWvfG7eW",
        "outputId": "cf529dd3-27f2-42d0-b09a-49470b438765"
      },
      "execution_count": 6,
      "outputs": [
        {
          "output_type": "stream",
          "name": "stdout",
          "text": [
            "Uploaded files:\n",
            "✅ kaggle.json\n"
          ]
        }
      ]
    },
    {
      "cell_type": "code",
      "source": [
        "!pip install -q kaggle"
      ],
      "metadata": {
        "id": "DKR45xnbG_ta"
      },
      "execution_count": 7,
      "outputs": []
    },
    {
      "cell_type": "code",
      "source": [
        "\n",
        "print(\"✅ Kaggle API has been successfully set up!\")"
      ],
      "metadata": {
        "colab": {
          "base_uri": "https://localhost:8080/"
        },
        "id": "L8ihkd7oHVg2",
        "outputId": "b1d78a0b-ea67-4364-b959-8e5467203f12"
      },
      "execution_count": 1,
      "outputs": [
        {
          "output_type": "stream",
          "name": "stdout",
          "text": [
            "✅ Kaggle API has been successfully set up!\n"
          ]
        }
      ]
    },
    {
      "cell_type": "code",
      "source": [
        "DATASET_NAME = \"mkechinov/ecommerce-behavior-data-from-multi-category-store\"\n",
        "TARGET_FILE = \"2019-Oct.csv\""
      ],
      "metadata": {
        "id": "B2o6izDALqiI"
      },
      "execution_count": 8,
      "outputs": []
    },
    {
      "cell_type": "code",
      "source": [
        "!ls /content/kaggle.json\n",
        "\n"
      ],
      "metadata": {
        "colab": {
          "base_uri": "https://localhost:8080/"
        },
        "id": "-khrEvahLtQp",
        "outputId": "f4be265d-6619-4f09-f523-d39b5159a7c4"
      },
      "execution_count": 10,
      "outputs": [
        {
          "output_type": "stream",
          "name": "stdout",
          "text": [
            "/content/kaggle.json\n"
          ]
        }
      ]
    },
    {
      "cell_type": "code",
      "source": [
        "!cat /content/kaggle.json\n"
      ],
      "metadata": {
        "colab": {
          "base_uri": "https://localhost:8080/"
        },
        "id": "JTMJ-0kINebM",
        "outputId": "60d9bcc5-983a-451b-dd31-5342461ece91"
      },
      "execution_count": 11,
      "outputs": [
        {
          "output_type": "stream",
          "name": "stdout",
          "text": [
            "{\"username\":\"youmbaiikram\",\"key\":\"72d7a2a9198d818e170012f04f2c69b9\"}"
          ]
        }
      ]
    },
    {
      "cell_type": "code",
      "source": [
        "import json\n",
        "token = {\"username\":\"youmbaiikram\",\"key\":\"72d7a2a9198d818e170012f04f2c69b9\"}\n",
        "with open(\"/content/kaggle.json\", \"w\") as f:\n",
        "    json.dump(token, f)"
      ],
      "metadata": {
        "id": "Aq8G0bV1NpbW"
      },
      "execution_count": 12,
      "outputs": []
    },
    {
      "cell_type": "code",
      "source": [
        "!mkdir -p ~/.kaggle\n",
        "!cp /content/kaggle.json ~/.kaggle/kaggle.json\n",
        "!chmod 600 ~/.kaggle/kaggle.json\n"
      ],
      "metadata": {
        "id": "RoAI3Hq1Nv4t"
      },
      "execution_count": 13,
      "outputs": []
    },
    {
      "cell_type": "code",
      "source": [
        "!kaggle datasets list | head\n"
      ],
      "metadata": {
        "colab": {
          "base_uri": "https://localhost:8080/"
        },
        "id": "__ms66X7N0kL",
        "outputId": "e0afc2c5-ec69-497b-b73f-ce102ee320be"
      },
      "execution_count": 14,
      "outputs": [
        {
          "output_type": "stream",
          "name": "stdout",
          "text": [
            "ref                                                           title                                                    size  lastUpdated                 downloadCount  voteCount  usabilityRating  \n",
            "------------------------------------------------------------  -------------------------------------------------  ----------  --------------------------  -------------  ---------  ---------------  \n",
            "ahmeduzaki/global-earthquake-tsunami-risk-assessment-dataset  Global Earthquake-Tsunami Risk Assessment Dataset       16151  2025-10-01 16:35:53.273000           5130        196  1.0              \n",
            "jockeroika/life-style-data                                    Life Style Data                                       3995645  2025-10-14 13:50:45.303000           6655        156  0.8235294        \n",
            "ahmadrazakashif/bmw-worldwide-sales-records-20102024          BMW Worldwide Sales Records (2010–2024)                853348  2025-09-20 14:39:45.280000          10634        235  1.0              \n",
            "jaderz/hospital-beds-management                               Hospital Beds Management                                47583  2025-10-03 09:21:58.590000           4066        110  1.0              \n",
            "rehan497/health-lifestyle-dataset                             Health Lifestyle Dataset                              2204934  2025-10-04 08:55:55.723000           1964         22  1.0              \n",
            "grandmaster07/student-exam-score-dataset-analysis             Student exam score dataset analysis                      2430  2025-09-26 07:44:12.677000           4819        104  1.0              \n",
            "raghavdharwal/amazon-ml-challenge-2025                        Amazon ML Challenge 2025                             49977798  2025-10-11 01:51:41.403000           1021         27  1.0              \n",
            "raveennimbiwal/global-population-stats-2024                   global_population_stats_2024                             4759  2025-09-28 06:46:23.360000           1374         23  1.0              \n"
          ]
        }
      ]
    },
    {
      "cell_type": "code",
      "source": [
        "!kaggle datasets download -d mkechinov/ecommerce-behavior-data-from-multi-category-store -p /content/data --unzip\n"
      ],
      "metadata": {
        "colab": {
          "base_uri": "https://localhost:8080/"
        },
        "id": "A_DQXM9QN9BW",
        "outputId": "019237a0-b9c6-4981-aa5b-dc154553c351"
      },
      "execution_count": 15,
      "outputs": [
        {
          "output_type": "stream",
          "name": "stdout",
          "text": [
            "Dataset URL: https://www.kaggle.com/datasets/mkechinov/ecommerce-behavior-data-from-multi-category-store\n",
            "License(s): copyright-authors\n",
            "Downloading ecommerce-behavior-data-from-multi-category-store.zip to /content/data\n",
            "100% 4.29G/4.29G [01:20<00:00, 239MB/s]\n",
            "100% 4.29G/4.29G [01:20<00:00, 56.9MB/s]\n"
          ]
        }
      ]
    },
    {
      "cell_type": "code",
      "source": [
        "!ls /content/data\n"
      ],
      "metadata": {
        "colab": {
          "base_uri": "https://localhost:8080/"
        },
        "id": "2yIwQBHvPOIB",
        "outputId": "56701f84-c334-47cf-f52a-f8c4106ee047"
      },
      "execution_count": 16,
      "outputs": [
        {
          "output_type": "stream",
          "name": "stdout",
          "text": [
            "2019-Nov.csv  2019-Oct.csv\n"
          ]
        }
      ]
    },
    {
      "cell_type": "code",
      "source": [
        "import pandas as pd\n",
        "import dask.dataframe as dd\n",
        "import time\n",
        "import os"
      ],
      "metadata": {
        "id": "_UzI9RQCPYll"
      },
      "execution_count": 2,
      "outputs": []
    },
    {
      "cell_type": "code",
      "source": [
        "path = \"/content/data/2019-Oct.csv\""
      ],
      "metadata": {
        "id": "fmh74zFIPl4o"
      },
      "execution_count": 4,
      "outputs": []
    },
    {
      "cell_type": "markdown",
      "source": [
        "**Pandas + chunksize**"
      ],
      "metadata": {
        "id": "eV97ESz9Ppk6"
      }
    },
    {
      "cell_type": "code",
      "source": [
        "start = time.time()\n",
        "chunk_size = 500000\n",
        "chunks = []\n",
        "\n",
        "for chunk in pd.read_csv(path, chunksize=chunk_size):\n",
        "    chunks.append(chunk[\"price\"].mean())\n",
        "\n",
        "mean_price_chunks = sum(chunks) / len(chunks)\n",
        "end = time.time()\n",
        "time_chunks = end - start\n",
        "\n",
        "df_sample = pd.read_csv(path, nrows=100000)\n",
        "storage_pandas = df_sample.memory_usage(deep=True).sum() / (1024**3)\n",
        "\n",
        "print(\"✅ [1] Pandas + chunksize\")\n",
        "print(f\"Average price: {mean_price_chunks:.2f}\")\n",
        "print(f\"Time taken: {time_chunks:.2f} sec\\n\")\n",
        "print(f\"Memory used: {storage_pandas:.2f} GB\\n\")"
      ],
      "metadata": {
        "colab": {
          "base_uri": "https://localhost:8080/"
        },
        "id": "GqDoNSA-PngO",
        "outputId": "fd9347c3-7519-4266-eda7-ee806e0f7622"
      },
      "execution_count": 7,
      "outputs": [
        {
          "output_type": "stream",
          "name": "stdout",
          "text": [
            "✅ [1] Pandas + chunksize\n",
            "Average price: 290.33\n",
            "Time taken: 103.54 sec\n",
            "\n",
            "Memory used: 0.03 GB\n",
            "\n"
          ]
        }
      ]
    },
    {
      "cell_type": "markdown",
      "source": [
        "***[2] Dask***"
      ],
      "metadata": {
        "id": "7c8QuNbmQPV6"
      }
    },
    {
      "cell_type": "code",
      "source": [
        "start = time.time()\n",
        "df_dask = dd.read_csv(path)\n",
        "mean_price_dask = df_dask[\"price\"].mean().compute()\n",
        "end = time.time()\n",
        "time_dask = end - start\n",
        "\n",
        "storage_dask = df_dask.memory_usage(deep=True).sum().compute() / (1024**3)\n",
        "\n",
        "print(\"✅ [2] Dask\")\n",
        "print(f\"Average price: {mean_price_dask:.2f}\")\n",
        "print(f\"Time taken: {time_dask:.2f} sec\\n\")\n",
        "print(f\"Memory used : {storage_dask:.2f} GB\\n\")"
      ],
      "metadata": {
        "colab": {
          "base_uri": "https://localhost:8080/"
        },
        "id": "i26HgAueQWXe",
        "outputId": "036b003f-3002-4702-b76b-ee1493213ad5"
      },
      "execution_count": 9,
      "outputs": [
        {
          "output_type": "stream",
          "name": "stdout",
          "text": [
            "✅ [2] Dask\n",
            "Average price: 290.32\n",
            "Time taken: 100.90 sec\n",
            "\n",
            "Memory used : 6.16 GB\n",
            "\n"
          ]
        }
      ]
    },
    {
      "cell_type": "markdown",
      "source": [
        "**# [3] Compression**"
      ],
      "metadata": {
        "id": "AswtkZbtQ7ib"
      }
    },
    {
      "cell_type": "code",
      "source": [
        "compressed_path = \"/content/data/2019-Oct-compressed.csv.gz\"\n",
        "\n",
        "start = time.time()\n",
        "df = pd.read_csv(path)\n",
        "df.to_csv(compressed_path, index=False, compression='gzip')\n",
        "end = time.time()\n",
        "time_compress = end - start\n",
        "\n",
        "original_size_gb = os.path.getsize(path) / (1024**3)\n",
        "compressed_size_gb = os.path.getsize(compressed_path) / (1024**3)\n",
        "\n",
        "print(\"✅ [3] Compression (gzip)\")\n",
        "print(f\"Original size: {original_size_gb:.2f} GB\")\n",
        "print(f\"Compressed size: {compressed_size_gb:.2f} GB\")\n",
        "print(f\"Compression time: {time_compress:.2f} sec\")\n",
        "\n",
        "compression_ratio = (1 - compressed_size_gb / original_size_gb) * 100\n",
        "print(f\"Compression ratio: {compression_ratio:.1f}% smaller\")"
      ],
      "metadata": {
        "colab": {
          "base_uri": "https://localhost:8080/"
        },
        "id": "rUhXAlq9Q-Rk",
        "outputId": "eeb20eab-f3e6-4631-9a43-f5f26728920e"
      },
      "execution_count": 5,
      "outputs": [
        {
          "output_type": "stream",
          "name": "stdout",
          "text": [
            "✅ [3] Compression (gzip)\n",
            "Original size: 5.28 GB\n",
            "Compressed size: 1.58 GB\n",
            "Compression time: 866.87 sec\n",
            "Compression ratio: 70.1% smaller\n"
          ]
        }
      ]
    },
    {
      "cell_type": "markdown",
      "source": [
        "**Comparison of results**"
      ],
      "metadata": {
        "id": "hGLoswV7RdUs"
      }
    },
    {
      "cell_type": "code",
      "source": [
        "print(\"=== 🧩 Comparison Summary ===\")\n",
        "print(f\"Pandas + chunksize: {time_chunks:.2f}s | {storage_pandas:.2f} GB RAM\")\n",
        "print(f\"Dask: {time_dask:.2f}s | {storage_dask:.2f} GB RAM\")\n",
        "print(f\"Compression: {time_compress:.2f}s | {compressed_size_gb:.2f} GB on disk\")"
      ],
      "metadata": {
        "colab": {
          "base_uri": "https://localhost:8080/"
        },
        "id": "OQJWkGWrRedX",
        "outputId": "171fa19d-a2a5-47d8-9b28-cd2505670cfe"
      },
      "execution_count": 10,
      "outputs": [
        {
          "output_type": "stream",
          "name": "stdout",
          "text": [
            "=== 🧩 Comparison Summary ===\n",
            "Pandas + chunksize: 103.54s | 0.03 GB RAM\n",
            "Dask: 100.90s | 6.16 GB RAM\n",
            "Compression: 866.87s | 1.58 GB on disk\n"
          ]
        }
      ]
    }
  ]
}